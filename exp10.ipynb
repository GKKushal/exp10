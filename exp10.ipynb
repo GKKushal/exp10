import pandas as pd
import numpy as np
import matplotlib.pyplot as plt
from sklearn.datasets import load_breast_cancer
from sklearn.cluster import KMeans
from sklearn.decomposition import PCA
from sklearn.preprocessing import StandardScaler
from sklearn.metrics import silhouette_score, confusion_matrix
import seaborn as sns

data=load_breast_cancer()
x=data.data
y=data.target

scaler=StandardScaler()
x_scaled=scaler.fit_transform(x)

kmeans=KMeans(n_clusters=2, random_state=42)
y_kmeans=kmeans.fit_predict(x_scaled)

pca=PCA(n_components=2)
x_pca=pca.fit_transform(x_scaled)

plt.figure(figsize=(8,6))
plt.scatter(x_pca[:, 0], x_pca[:, 1], c=y_kmeans, cmap='viridis', marker='o', alpha=0.7)
plt.scatter(kmeans.cluster_centers_[:, 0], kmeans.cluster_centers_[:, 1], s=300, c='red', marker='X', label='Centroids')
plt.title('K-Means Clustering on Breast Cancer Data')
plt.xlabel('Principal Component 1')
plt.ylabel('Principal Component 2')
plt.legend()
plt.show()

silhouette_avg=silhouette_score(x_scaled, y_kmeans)
print(f'Silhouette score: {silhouette_avg:.4f}')

conf_matrix=confusion_matrix(y, y_kmeans)
sns.heatmap(conf_matrix, annot=True, fmt='d', cmap='Blues', xticklabels=data.target_names,yticklabels=data.target_names)

plt.title('Confusion Matrix')
plt.show()
